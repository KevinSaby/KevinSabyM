{
  "nbformat": 4,
  "nbformat_minor": 0,
  "metadata": {
    "colab": {
      "provenance": [],
      "authorship_tag": "ABX9TyPtdXyRDVF8AfaZlD1BlO3d",
      "include_colab_link": true
    },
    "kernelspec": {
      "name": "python3",
      "display_name": "Python 3"
    },
    "language_info": {
      "name": "python"
    }
  },
  "cells": [
    {
      "cell_type": "markdown",
      "metadata": {
        "id": "view-in-github",
        "colab_type": "text"
      },
      "source": [
        "<a href=\"https://colab.research.google.com/github/KevinSaby/KevinSabyM/blob/main/NumberGuesser.ipynb\" target=\"_parent\"><img src=\"https://colab.research.google.com/assets/colab-badge.svg\" alt=\"Open In Colab\"/></a>"
      ]
    },
    {
      "cell_type": "code",
      "execution_count": 1,
      "metadata": {
        "colab": {
          "base_uri": "https://localhost:8080/"
        },
        "id": "TuO8IsAEQBZH",
        "outputId": "26adcd65-dc31-449a-e8fb-dcb602ba4ac8"
      },
      "outputs": [
        {
          "output_type": "stream",
          "name": "stdout",
          "text": [
            "Hello, What's your name?kk\n",
            "okay! kk I am Guessing a number between 1 and 10:\n",
            "5\n",
            "Your guess is too high\n",
            "1\n",
            "Your guess is too low\n",
            "3\n",
            "You guessed the number in 3 tries!\n"
          ]
        }
      ],
      "source": [
        "import random\n",
        "number = random.randint(1, 10)\n",
        "\n",
        "player_name = input(\"Hello, What's your name?\")\n",
        "number_of_guesses = 0\n",
        "print('okay! '+ player_name+ ' I am Guessing a number between 1 and 10:')\n",
        "\n",
        "while number_of_guesses < 5:\n",
        "    guess = int(input())\n",
        "    number_of_guesses += 1\n",
        "    if guess < number:\n",
        "        print('Your guess is too low')\n",
        "    if guess > number:\n",
        "        print('Your guess is too high')\n",
        "    if guess == number:\n",
        "        break\n",
        "if guess == number:\n",
        "    print('You guessed the number in ' + str(number_of_guesses) + ' tries!')\n",
        "else:\n",
        "    print('You did not guess the number, The number was ' + str(number))"
      ]
    }
  ]
}